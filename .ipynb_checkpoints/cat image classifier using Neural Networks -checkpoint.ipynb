{
 "cells": [
  {
   "cell_type": "code",
   "execution_count": 1,
   "id": "74b35f2c",
   "metadata": {},
   "outputs": [],
   "source": [
    "import numpy as np \n",
    "import copy \n",
    "import matplotlib.pyplot as plt \n",
    "import h5py \n",
    "import scipy \n",
    "from PIL import Image \n",
    "from scipy import ndimage \n",
    "from lr_utils import load_dataset \n",
    "from public_tests import *\n",
    "%matplotlib inline \n",
    "%load_ext autoreload \n",
    "%autoreload 2"
   ]
  },
  {
   "cell_type": "code",
   "execution_count": null,
   "id": "c8cfb776",
   "metadata": {},
   "outputs": [],
   "source": [
    "#loading the data \n",
    "train_set_x_orig, train_set_y, test_set_x"
   ]
  }
 ],
 "metadata": {
  "kernelspec": {
   "display_name": "Python 3 (ipykernel)",
   "language": "python",
   "name": "python3"
  },
  "language_info": {
   "codemirror_mode": {
    "name": "ipython",
    "version": 3
   },
   "file_extension": ".py",
   "mimetype": "text/x-python",
   "name": "python",
   "nbconvert_exporter": "python",
   "pygments_lexer": "ipython3",
   "version": "3.11.7"
  }
 },
 "nbformat": 4,
 "nbformat_minor": 5
}
